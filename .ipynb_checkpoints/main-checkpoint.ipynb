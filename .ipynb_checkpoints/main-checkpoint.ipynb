{
 "cells": [
  {
   "cell_type": "markdown",
   "id": "bec4ed83",
   "metadata": {},
   "source": [
    "## Описание задачи 📕\n",
    "\n",
    "1) Найти на портале ГИС ЖКХ (https://dom.gosuslugi.ru/#!/main) данные о количестве платежей ЖКХ по субъектам РФ\n",
    "2) Найти на портале данные о тарифах ЖКХ\n",
    "3) Сформулировать правила расчета и рассчитать приблизительный средний тариф ЖКХ по субъектам РФ за 2023 год по данным ГИС ЖКХ и/или другим источникам \n",
    "4) Определить объем рынка ЖКХ в рублях по субъектам РФ и в целом в РФ\n",
    "\n",
    "## Результат ✅\n",
    "\n",
    "1) Оценка объема рынка ЖКХ по субъектам РФ и в целом в РФ\n",
    "2) Файл в формате ipynb с кодом расчета объема рынка ЖКХ в рублях и коротким описанием методологии расчета"
   ]
  },
  {
   "cell_type": "markdown",
   "id": "724fd40c",
   "metadata": {},
   "source": [
    "## Алгоритм решения задачи 👨‍💻\n",
    "\n",
    "### Расчет средних выплат по ЖКХ для субъекта РФ\n",
    "\n",
    "1) Определить те тарифы, которые будут использоваться в данном ислледовании. **Обоснование**: средний житель страны платит лишь по 6-7 тарифам\n",
    "2) Выявить средний размер домохозяйства для выбранного субъекта: кол-во человек в домохозяйстве и размер жилой площади. **Обоснование**: эти показатели мы будем перемножать с тарифом на услугу и на норму потребления, чтобы получить стоимость общих выплат по ЖКХ \n",
    "3) Выявить процент населения, живущего в многоквартирных домах. **Обоснование**: не все платежи приспособлены для индивидуальных домах, где в среднем располагаются от 15-ти до 20-ти процентов об общего населения\n",
    "4) Пусть $a_1, a_2 ... a_n$ - различные тарифы по ЖКХ, $b_1, b_2 ... b_n$ - потребление услуг ЖКХ на квадратный метр жилья либо на человека, $c$ - показатель среднего размера семьи/жил.площади, $d$ - показатель доли населения, живущих в многоквартирных домах, $e_1, e_2 ... e_n$ - тарифы ЖКХ, предназначенные только жителям квартирных домов. Тогда, для расчета средних выплат по ЖКХ для одного домохозяйства будет использоваться следующая формула:\n",
    "$a_1*b_1*c + a_2*b_2*c ... + a_n*b_n*c + e_1*d+e_2*d ... + e_n*d$\n",
    "\n",
    "\n",
    "\n",
    "\n",
    "### Расчет средних выплат по ЖКХ для РФ\n",
    "1) Выявить население в каждом субъекте РФ. **Обоснование**: средние выплаты по ЖКХ для одного домохозяйства в РФ будут рассчитаны как средневзвешенные средние выплаты по ЖКХ для одного домохозяйства по субъектам РФ, где в качестве веса будет использоваться население субъекта\n",
    "2) Пусть $a_1, a_2 ... a_n$ - средние выплаты по ЖКХ для одного домохозяйства в субъектах РФ, $b_1, b_2 ... b_n$ - население субъекта РФ. Тогда, для расчета средних выплат по ЖКХ для одного домохозяйства в РФ будет использоваться следующая формула:\n",
    "$\\frac{a_1*b_1 + a_2*b_2 ... + a_n*b_n}{b_1+b_2 ...+ b_n}$"
   ]
  },
  {
   "cell_type": "markdown",
   "id": "be1ad3f1",
   "metadata": {},
   "source": [
    "# =========================================================="
   ]
  },
  {
   "cell_type": "code",
   "execution_count": 313,
   "id": "f73def89",
   "metadata": {},
   "outputs": [],
   "source": [
    "import pandas as pd\n",
    "import os\n",
    "from tqdm import tqdm\n",
    "import numpy as np"
   ]
  },
  {
   "cell_type": "markdown",
   "id": "71968953",
   "metadata": {},
   "source": [
    "## Загружаем все необходимые данные"
   ]
  },
  {
   "cell_type": "markdown",
   "id": "8c66a119",
   "metadata": {},
   "source": [
    "#### 1) Тарифы на оплату коммунальных ресурсов\n",
    "URL: https://dom.gosuslugi.ru/filestore/publicDownloadServlet?context=tariff-exports&uid=14a51197-f631-4337-b7ae-f2c968e96fb1"
   ]
  },
  {
   "cell_type": "code",
   "execution_count": 318,
   "id": "6fbd876e",
   "metadata": {},
   "outputs": [
    {
     "name": "stderr",
     "output_type": "stream",
     "text": [
      "100%|███████████████████████████████████████████| 81/81 [01:17<00:00,  1.05it/s]\n"
     ]
    }
   ],
   "source": [
    "data_path = 'Data/Тарифы на оплату коммунальных ресурсов от 29.05.2023/'\n",
    "rate_files = [i for i in os.listdir(data_path) if '.xlsx' in i and '$' not in i] \n",
    "rates_df = pd.DataFrame()\n",
    "for file in tqdm(rate_files):\n",
    "    df = pd.read_excel(data_path + file)\n",
    "    df['Регион'] = file.split('.')[0]\n",
    "    rates_df = pd.concat([rates_df, df])\n",
    "\n",
    "\n",
    "# Оставляем только нужные колонки\n",
    "rates_df = rates_df[['Регион', 'Вид тарифа', 'Величина тарифа (ставки тарифа)']].reset_index(drop=True)"
   ]
  },
  {
   "cell_type": "markdown",
   "id": "2c71f3da",
   "metadata": {},
   "source": [
    "Преобразование числовых данных:"
   ]
  },
  {
   "cell_type": "code",
   "execution_count": 423,
   "id": "bc5e2de5",
   "metadata": {},
   "outputs": [],
   "source": [
    "rate = rates_df['Величина тарифа (ставки тарифа)'].str.split(' ').str[0].astype('float')\n",
    "metric = rates_df['Величина тарифа (ставки тарифа)'].str.split('/').str[1]\n",
    "rates_df['Величина тарифа (ставки тарифа)'] = rate\n",
    "rates_df['Метрика'] = metric"
   ]
  },
  {
   "cell_type": "code",
   "execution_count": 424,
   "id": "c47f18e9",
   "metadata": {},
   "outputs": [
    {
     "data": {
      "text/html": [
       "<div>\n",
       "<style scoped>\n",
       "    .dataframe tbody tr th:only-of-type {\n",
       "        vertical-align: middle;\n",
       "    }\n",
       "\n",
       "    .dataframe tbody tr th {\n",
       "        vertical-align: top;\n",
       "    }\n",
       "\n",
       "    .dataframe thead th {\n",
       "        text-align: right;\n",
       "    }\n",
       "</style>\n",
       "<table border=\"1\" class=\"dataframe\">\n",
       "  <thead>\n",
       "    <tr style=\"text-align: right;\">\n",
       "      <th></th>\n",
       "      <th>Регион</th>\n",
       "      <th>Вид тарифа</th>\n",
       "      <th>Величина тарифа (ставки тарифа)</th>\n",
       "      <th>Метрика</th>\n",
       "    </tr>\n",
       "  </thead>\n",
       "  <tbody>\n",
       "    <tr>\n",
       "      <th>0</th>\n",
       "      <td>Астраханская область</td>\n",
       "      <td>Тариф на техническую воду</td>\n",
       "      <td>36.62</td>\n",
       "      <td>Кубический метр</td>\n",
       "    </tr>\n",
       "    <tr>\n",
       "      <th>1</th>\n",
       "      <td>Астраханская область</td>\n",
       "      <td>Тариф на тепловую энергию (мощность)</td>\n",
       "      <td>1910.79</td>\n",
       "      <td>Гигакалория</td>\n",
       "    </tr>\n",
       "    <tr>\n",
       "      <th>2</th>\n",
       "      <td>Астраханская область</td>\n",
       "      <td>Тариф на водоотведение</td>\n",
       "      <td>29.80</td>\n",
       "      <td>Кубический метр</td>\n",
       "    </tr>\n",
       "    <tr>\n",
       "      <th>3</th>\n",
       "      <td>Астраханская область</td>\n",
       "      <td>Тариф на техническую воду</td>\n",
       "      <td>5.93</td>\n",
       "      <td>Кубический метр</td>\n",
       "    </tr>\n",
       "    <tr>\n",
       "      <th>4</th>\n",
       "      <td>Астраханская область</td>\n",
       "      <td>Тариф на техническую воду</td>\n",
       "      <td>31.83</td>\n",
       "      <td>Кубический метр</td>\n",
       "    </tr>\n",
       "  </tbody>\n",
       "</table>\n",
       "</div>"
      ],
      "text/plain": [
       "                 Регион                            Вид тарифа  \\\n",
       "0  Астраханская область             Тариф на техническую воду   \n",
       "1  Астраханская область  Тариф на тепловую энергию (мощность)   \n",
       "2  Астраханская область                Тариф на водоотведение   \n",
       "3  Астраханская область             Тариф на техническую воду   \n",
       "4  Астраханская область             Тариф на техническую воду   \n",
       "\n",
       "   Величина тарифа (ставки тарифа)          Метрика  \n",
       "0                            36.62  Кубический метр  \n",
       "1                          1910.79      Гигакалория  \n",
       "2                            29.80  Кубический метр  \n",
       "3                             5.93  Кубический метр  \n",
       "4                            31.83  Кубический метр  "
      ]
     },
     "execution_count": 424,
     "metadata": {},
     "output_type": "execute_result"
    }
   ],
   "source": [
    "rates_df.head()"
   ]
  },
  {
   "cell_type": "markdown",
   "id": "325f552e",
   "metadata": {},
   "source": [
    "Очистим выбросы данных:"
   ]
  },
  {
   "cell_type": "code",
   "execution_count": 462,
   "id": "c85b29a1",
   "metadata": {
    "scrolled": true
   },
   "outputs": [
    {
     "name": "stderr",
     "output_type": "stream",
     "text": [
      "100%|███████████████████████████████████████████| 81/81 [00:57<00:00,  1.40it/s]\n"
     ]
    }
   ],
   "source": [
    "rates_df_clear = pd.DataFrame()\n",
    "for r in tqdm(rates_df['Регион'].unique()):\n",
    "    for m in rates_df[rates_df['Регион']==r]['Метрика'].unique():\n",
    "        for t in rates_df[(rates_df['Метрика']==m) & (rates_df['Регион']==r)]['Вид тарифа'].unique():\n",
    "            # Обязательно расчет в рамках одной метрики, региона и тарифа\n",
    "            df = rates_df[(rates_df['Метрика']==m) & (rates_df['Регион']==r) & (rates_df['Вид тарифа']==t)].copy()\n",
    "            # Находит границы первого и третьего квартиля и считаем разницу между ними\n",
    "            Q1 = np.percentile(df['Величина тарифа (ставки тарифа)'], 25, method='midpoint')\n",
    "            Q3 = np.percentile(df['Величина тарифа (ставки тарифа)'], 75, method='midpoint')\n",
    "            IQR = Q3 - Q1\n",
    "            # От третьего и первого квартиля движемся вверх и вниз на величину, равную 1.5 IQR, считаем допустимые границы\n",
    "            upper = Q3 + 1.5*IQR\n",
    "            lower = Q1 - 1.5*IQR\n",
    "            # Удаляем выбивающиеся строки\n",
    "            df = df[df['Величина тарифа (ставки тарифа)'] < upper]\n",
    "            df = df[df['Величина тарифа (ставки тарифа)'] > lower]\n",
    "            # Собираем новую таблицу\n",
    "            rates_df_clear = pd.concat([rates_df_clear, df])"
   ]
  },
  {
   "cell_type": "code",
   "execution_count": 466,
   "id": "de529d7a",
   "metadata": {},
   "outputs": [],
   "source": [
    "rates_df = rates_df_clear.copy()"
   ]
  },
  {
   "cell_type": "markdown",
   "id": "61e1c45b",
   "metadata": {},
   "source": [
    "#### 2) Нормативы потребления коммунальных услуг\n",
    "URL: https://dom.gosuslugi.ru/rate-consumption/api/rest/services/pconsumptions/downloadzip"
   ]
  },
  {
   "cell_type": "code",
   "execution_count": 251,
   "id": "00956d8b",
   "metadata": {},
   "outputs": [
    {
     "name": "stderr",
     "output_type": "stream",
     "text": [
      "100%|███████████████████████████████████████████| 85/85 [00:20<00:00,  4.12it/s]\n"
     ]
    }
   ],
   "source": [
    "data_path = 'Data/Нормативы потребления коммунальных услуг (25.05.2023)/'\n",
    "cons_files = [i for i in os.listdir(data_path) if '.xlsx' in i and '$' not in i] \n",
    "cons_df = pd.DataFrame()\n",
    "for file in tqdm(cons_files):\n",
    "    df = pd.read_excel(data_path + file)\n",
    "    df['Регион'] = file.split(' - ')[0]\n",
    "    cons_df = pd.concat([cons_df, df])\n",
    "\n",
    "# Оставляем только нужные колонки, не забыв поставить нужные фильтры\n",
    "cons_df = cons_df[cons_df['Состояние норматива']=='Действующий'][['Регион', 'Коммунальная услуга', 'Величина норматива']]"
   ]
  },
  {
   "cell_type": "markdown",
   "id": "7f1fbeda",
   "metadata": {},
   "source": [
    "Преобразование числовых данных:"
   ]
  },
  {
   "cell_type": "code",
   "execution_count": 253,
   "id": "b4eb46f5",
   "metadata": {},
   "outputs": [],
   "source": [
    "norm = cons_df['Величина норматива'].str.split(' ').str[0].astype('float')\n",
    "metric = cons_df['Величина норматива']\\\n",
    "        .apply(lambda x: 'м2' if 'м2' in x.lower() else 'чел' if 'чел' in x.lower() else '')\n",
    "\n",
    "cons_df['Величина норматива'] = norm\n",
    "cons_df['Расчет на'] = metric\n",
    "\n",
    "# Оставляем лишь те строки, где норматив расчитан либо на человека, либо на площадь жилья\n",
    "cons_df = cons_df[cons_df['Расчет на']!='']"
   ]
  },
  {
   "cell_type": "code",
   "execution_count": 254,
   "id": "89fd6ab6",
   "metadata": {},
   "outputs": [
    {
     "data": {
      "text/html": [
       "<div>\n",
       "<style scoped>\n",
       "    .dataframe tbody tr th:only-of-type {\n",
       "        vertical-align: middle;\n",
       "    }\n",
       "\n",
       "    .dataframe tbody tr th {\n",
       "        vertical-align: top;\n",
       "    }\n",
       "\n",
       "    .dataframe thead th {\n",
       "        text-align: right;\n",
       "    }\n",
       "</style>\n",
       "<table border=\"1\" class=\"dataframe\">\n",
       "  <thead>\n",
       "    <tr style=\"text-align: right;\">\n",
       "      <th></th>\n",
       "      <th>Регион</th>\n",
       "      <th>Коммунальная услуга</th>\n",
       "      <th>Величина норматива</th>\n",
       "      <th>Расчет на</th>\n",
       "    </tr>\n",
       "  </thead>\n",
       "  <tbody>\n",
       "    <tr>\n",
       "      <th>0</th>\n",
       "      <td>Волгоградская область</td>\n",
       "      <td>Отопление</td>\n",
       "      <td>0.010</td>\n",
       "      <td>м2</td>\n",
       "    </tr>\n",
       "    <tr>\n",
       "      <th>1</th>\n",
       "      <td>Волгоградская область</td>\n",
       "      <td>Отопление</td>\n",
       "      <td>0.014</td>\n",
       "      <td>м2</td>\n",
       "    </tr>\n",
       "    <tr>\n",
       "      <th>2</th>\n",
       "      <td>Волгоградская область</td>\n",
       "      <td>Отопление</td>\n",
       "      <td>0.011</td>\n",
       "      <td>м2</td>\n",
       "    </tr>\n",
       "    <tr>\n",
       "      <th>3</th>\n",
       "      <td>Волгоградская область</td>\n",
       "      <td>Отведение сточных вод</td>\n",
       "      <td>1.830</td>\n",
       "      <td>чел</td>\n",
       "    </tr>\n",
       "    <tr>\n",
       "      <th>4</th>\n",
       "      <td>Волгоградская область</td>\n",
       "      <td>Отопление</td>\n",
       "      <td>0.016</td>\n",
       "      <td>м2</td>\n",
       "    </tr>\n",
       "  </tbody>\n",
       "</table>\n",
       "</div>"
      ],
      "text/plain": [
       "                  Регион    Коммунальная услуга  Величина норматива Расчет на\n",
       "0  Волгоградская область              Отопление               0.010        м2\n",
       "1  Волгоградская область              Отопление               0.014        м2\n",
       "2  Волгоградская область              Отопление               0.011        м2\n",
       "3  Волгоградская область  Отведение сточных вод               1.830       чел\n",
       "4  Волгоградская область              Отопление               0.016        м2"
      ]
     },
     "execution_count": 254,
     "metadata": {},
     "output_type": "execute_result"
    }
   ],
   "source": [
    "cons_df.head()"
   ]
  },
  {
   "cell_type": "markdown",
   "id": "5dfa9234",
   "metadata": {},
   "source": [
    "#### 3) Средний размер домохозяйства по субъектам РФ\n",
    "URL: https://russia.duck.consulting/maps/264/2010.csv"
   ]
  },
  {
   "cell_type": "code",
   "execution_count": 128,
   "id": "e3c58f2b",
   "metadata": {},
   "outputs": [],
   "source": [
    "hh_df = pd.read_csv('Data/Средний_размер_домохозяйства.csv', \n",
    "                    header=None, \n",
    "                    names=['Год', 'Субъект', 'Значение'])\n",
    "hh_df = hh_df[hh_df['Год']==2010]"
   ]
  },
  {
   "cell_type": "code",
   "execution_count": 137,
   "id": "68b17d7e",
   "metadata": {},
   "outputs": [
    {
     "data": {
      "text/html": [
       "<div>\n",
       "<style scoped>\n",
       "    .dataframe tbody tr th:only-of-type {\n",
       "        vertical-align: middle;\n",
       "    }\n",
       "\n",
       "    .dataframe tbody tr th {\n",
       "        vertical-align: top;\n",
       "    }\n",
       "\n",
       "    .dataframe thead th {\n",
       "        text-align: right;\n",
       "    }\n",
       "</style>\n",
       "<table border=\"1\" class=\"dataframe\">\n",
       "  <thead>\n",
       "    <tr style=\"text-align: right;\">\n",
       "      <th></th>\n",
       "      <th>Год</th>\n",
       "      <th>Субъект</th>\n",
       "      <th>Значение</th>\n",
       "    </tr>\n",
       "  </thead>\n",
       "  <tbody>\n",
       "    <tr>\n",
       "      <th>0</th>\n",
       "      <td>2002</td>\n",
       "      <td>Адыгея</td>\n",
       "      <td>2.95</td>\n",
       "    </tr>\n",
       "    <tr>\n",
       "      <th>1</th>\n",
       "      <td>2002</td>\n",
       "      <td>Алтайский край</td>\n",
       "      <td>2.69</td>\n",
       "    </tr>\n",
       "    <tr>\n",
       "      <th>2</th>\n",
       "      <td>2002</td>\n",
       "      <td>Амурская область</td>\n",
       "      <td>2.74</td>\n",
       "    </tr>\n",
       "    <tr>\n",
       "      <th>3</th>\n",
       "      <td>2002</td>\n",
       "      <td>Архангельская область</td>\n",
       "      <td>2.62</td>\n",
       "    </tr>\n",
       "    <tr>\n",
       "      <th>4</th>\n",
       "      <td>2002</td>\n",
       "      <td>Астраханская область</td>\n",
       "      <td>2.93</td>\n",
       "    </tr>\n",
       "  </tbody>\n",
       "</table>\n",
       "</div>"
      ],
      "text/plain": [
       "    Год                Субъект  Значение\n",
       "0  2002                 Адыгея      2.95\n",
       "1  2002         Алтайский край      2.69\n",
       "2  2002       Амурская область      2.74\n",
       "3  2002  Архангельская область      2.62\n",
       "4  2002   Астраханская область      2.93"
      ]
     },
     "execution_count": 137,
     "metadata": {},
     "output_type": "execute_result"
    }
   ],
   "source": [
    "hh_df.head()"
   ]
  },
  {
   "cell_type": "markdown",
   "id": "36eb0e1a",
   "metadata": {},
   "source": [
    "#### 4) Средний тариф на капитальный ремонт по субъектам РФ\n",
    "Этого тарифа не было в справочнике тарифов на сайте dom.gosuslugi.ru, поэтому выгружаем его из отдельного источника"
   ]
  },
  {
   "cell_type": "code",
   "execution_count": 303,
   "id": "be880938",
   "metadata": {},
   "outputs": [],
   "source": [
    "# Данные были не доступны для скачивания, поэтому парсим таблицу напрямую из html страницы\n",
    "url = 'https://gogov.ru/articles/utility-rates/overhaul'\n",
    "headers = {'User-agent': 'Mozilla/5.0'}\n",
    "rep_df = pd.read_html(requests.get(url,\n",
    "                               headers=headers).text,\n",
    "                               attrs={\"id\":\"m-table\"})[0]\n",
    "rep_df = rep_df[['Регион', 'Тариф на капремонт, руб.']]"
   ]
  },
  {
   "cell_type": "markdown",
   "id": "a2f63912",
   "metadata": {},
   "source": [
    "Преобразование числовых данных:"
   ]
  },
  {
   "cell_type": "code",
   "execution_count": 305,
   "id": "4042c2ce",
   "metadata": {},
   "outputs": [],
   "source": [
    "# Значение для Крыма парсится с ошибкой, установим его вручную\n",
    "rep_df.loc[rep_df['Регион'] == 'Крым', 'Тариф на капремонт, руб.'] = '7.21'\n",
    "\n",
    "# Заменим запятые на точки и удалим пробелы\n",
    "rep_df['Тариф на капремонт, руб.'] = rep_df['Тариф на капремонт, руб.'].str.replace(',', '.').replace(' ', '')\n",
    "\n",
    "# В случае если два значения через тире, то берет среднее\n",
    "rate = rep_df['Тариф на капремонт, руб.'].apply(lambda x: float(x) if '-' not in x \n",
    "                                         else (float(x.split('-')[0]) + float(x.split(' - ')[1]))/2)\n",
    "rep_df['Тариф на капремонт, руб.'] = rate"
   ]
  },
  {
   "cell_type": "code",
   "execution_count": 306,
   "id": "f5b9c2fb",
   "metadata": {},
   "outputs": [
    {
     "data": {
      "text/html": [
       "<div>\n",
       "<style scoped>\n",
       "    .dataframe tbody tr th:only-of-type {\n",
       "        vertical-align: middle;\n",
       "    }\n",
       "\n",
       "    .dataframe tbody tr th {\n",
       "        vertical-align: top;\n",
       "    }\n",
       "\n",
       "    .dataframe thead th {\n",
       "        text-align: right;\n",
       "    }\n",
       "</style>\n",
       "<table border=\"1\" class=\"dataframe\">\n",
       "  <thead>\n",
       "    <tr style=\"text-align: right;\">\n",
       "      <th></th>\n",
       "      <th>Регион</th>\n",
       "      <th>Тариф на капремонт, руб.</th>\n",
       "    </tr>\n",
       "  </thead>\n",
       "  <tbody>\n",
       "    <tr>\n",
       "      <th>0</th>\n",
       "      <td>Адыгея</td>\n",
       "      <td>8.70</td>\n",
       "    </tr>\n",
       "    <tr>\n",
       "      <th>1</th>\n",
       "      <td>Алтай</td>\n",
       "      <td>10.28</td>\n",
       "    </tr>\n",
       "    <tr>\n",
       "      <th>2</th>\n",
       "      <td>Алтайский край</td>\n",
       "      <td>9.93</td>\n",
       "    </tr>\n",
       "    <tr>\n",
       "      <th>3</th>\n",
       "      <td>Амурская обл.</td>\n",
       "      <td>8.60</td>\n",
       "    </tr>\n",
       "    <tr>\n",
       "      <th>4</th>\n",
       "      <td>Архангельская обл.</td>\n",
       "      <td>11.16</td>\n",
       "    </tr>\n",
       "  </tbody>\n",
       "</table>\n",
       "</div>"
      ],
      "text/plain": [
       "               Регион  Тариф на капремонт, руб.\n",
       "0              Адыгея                      8.70\n",
       "1               Алтай                     10.28\n",
       "2      Алтайский край                      9.93\n",
       "3       Амурская обл.                      8.60\n",
       "4  Архангельская обл.                     11.16"
      ]
     },
     "execution_count": 306,
     "metadata": {},
     "output_type": "execute_result"
    }
   ],
   "source": [
    "rep_df.head()"
   ]
  },
  {
   "cell_type": "markdown",
   "id": "e02a1686",
   "metadata": {},
   "source": [
    "#### 5) Численность населения по субъектам РФ\n",
    "URL: https://russia.duck.consulting/maps/31/2019.csv"
   ]
  },
  {
   "cell_type": "code",
   "execution_count": 255,
   "id": "2931078c",
   "metadata": {},
   "outputs": [],
   "source": [
    "pop_df = pd.read_csv('Data/Численность_населения.csv', \n",
    "                    header=None, \n",
    "                    names=['Год', 'Субъект', 'Население'])\n",
    "pop_df = pop_df[pop_df['Год']==2019]"
   ]
  },
  {
   "cell_type": "code",
   "execution_count": 256,
   "id": "52dc52c5",
   "metadata": {},
   "outputs": [
    {
     "data": {
      "text/html": [
       "<div>\n",
       "<style scoped>\n",
       "    .dataframe tbody tr th:only-of-type {\n",
       "        vertical-align: middle;\n",
       "    }\n",
       "\n",
       "    .dataframe tbody tr th {\n",
       "        vertical-align: top;\n",
       "    }\n",
       "\n",
       "    .dataframe thead th {\n",
       "        text-align: right;\n",
       "    }\n",
       "</style>\n",
       "<table border=\"1\" class=\"dataframe\">\n",
       "  <thead>\n",
       "    <tr style=\"text-align: right;\">\n",
       "      <th></th>\n",
       "      <th>Год</th>\n",
       "      <th>Субъект</th>\n",
       "      <th>Население</th>\n",
       "    </tr>\n",
       "  </thead>\n",
       "  <tbody>\n",
       "    <tr>\n",
       "      <th>2455</th>\n",
       "      <td>2019</td>\n",
       "      <td>Адыгея</td>\n",
       "      <td>454744.0</td>\n",
       "    </tr>\n",
       "    <tr>\n",
       "      <th>2456</th>\n",
       "      <td>2019</td>\n",
       "      <td>Алтайский край</td>\n",
       "      <td>2332813.0</td>\n",
       "    </tr>\n",
       "    <tr>\n",
       "      <th>2457</th>\n",
       "      <td>2019</td>\n",
       "      <td>Амурская область</td>\n",
       "      <td>793194.0</td>\n",
       "    </tr>\n",
       "    <tr>\n",
       "      <th>2458</th>\n",
       "      <td>2019</td>\n",
       "      <td>Архангельская область</td>\n",
       "      <td>1100290.0</td>\n",
       "    </tr>\n",
       "    <tr>\n",
       "      <th>2459</th>\n",
       "      <td>2019</td>\n",
       "      <td>Астраханская область</td>\n",
       "      <td>1014065.0</td>\n",
       "    </tr>\n",
       "  </tbody>\n",
       "</table>\n",
       "</div>"
      ],
      "text/plain": [
       "       Год                Субъект  Население\n",
       "2455  2019                 Адыгея   454744.0\n",
       "2456  2019         Алтайский край  2332813.0\n",
       "2457  2019       Амурская область   793194.0\n",
       "2458  2019  Архангельская область  1100290.0\n",
       "2459  2019   Астраханская область  1014065.0"
      ]
     },
     "execution_count": 256,
     "metadata": {},
     "output_type": "execute_result"
    }
   ],
   "source": [
    "pop_df.head()"
   ]
  },
  {
   "cell_type": "markdown",
   "id": "7a2b501e",
   "metadata": {},
   "source": [
    "#### 6) Установка констант\n",
    "Для некоторых показателей не были найдены значения по регионам, поэтому для них мы возьмем некую среднюю оценку, основная на новостной аналитике.\n",
    "\n",
    "**Средний размер жилой площади**\n",
    "* Средний размер квартиры - 52.3 м2\n",
    "* Средний размер дома - 131 м2\n",
    "* Доля людей, живущих в квартире - 78%, а в доме - 22%\n",
    "* С учетом долей средний размер жилой площади - 69 м2\n",
    "\n",
    "**Тарифы, участвующие в анализе** (самые популярные тарифы)\n",
    "* Отопление\n",
    "* Электричество\n",
    "* Водоснабжение\n",
    "* Водоотведение\n",
    "* Вывоз мусора\n",
    "* Взносы на капитальный ремонт (только для квартир)\n",
    "* Плата за текущий ремонт и содержание (только для квартир)\n"
   ]
  },
  {
   "cell_type": "markdown",
   "id": "65b3bed4",
   "metadata": {},
   "source": [
    "## Дальнейшие шаги"
   ]
  },
  {
   "cell_type": "markdown",
   "id": "2f22d274",
   "metadata": {},
   "source": [
    "Дедлайн скоро, поэтому опишу словами, тем более, что по описанию ясно, что расчеты незамысловатые:\n",
    "\n",
    "* Все значения привести к единому стандарту: регионы и тарифы. Здесь долгое изучение данных в лоб\n",
    "* Высчитывая средний тариф для региона, я бы взял медиану этого тарифа в рамках всех территорий региона, и таким образом получил бы одно значение на один тариф\n",
    "* В расчете потребления так же взял медиану этого тарифа в рамках всех территорий региона\n",
    "* Сджойнить все данные в единую плоскую таблицу\n",
    "* На основе уже этой таблицы по формулам из описания считать результат\n"
   ]
  },
  {
   "cell_type": "code",
   "execution_count": null,
   "id": "026c9832",
   "metadata": {},
   "outputs": [],
   "source": []
  }
 ],
 "metadata": {
  "kernelspec": {
   "display_name": "Python 3 (ipykernel)",
   "language": "python",
   "name": "python3"
  },
  "language_info": {
   "codemirror_mode": {
    "name": "ipython",
    "version": 3
   },
   "file_extension": ".py",
   "mimetype": "text/x-python",
   "name": "python",
   "nbconvert_exporter": "python",
   "pygments_lexer": "ipython3",
   "version": "3.10.9"
  }
 },
 "nbformat": 4,
 "nbformat_minor": 5
}
