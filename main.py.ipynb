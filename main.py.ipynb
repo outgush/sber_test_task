{
 "cells": [
  {
   "cell_type": "markdown",
   "id": "bec4ed83",
   "metadata": {},
   "source": [
    "## Описание задачи 📕\n",
    "\n",
    "1) Найти на портале ГИС ЖКХ (https://dom.gosuslugi.ru/#!/main) данные о количестве платежей ЖКХ по субъектам РФ\n",
    "2) Найти на портале данные о тарифах ЖКХ\n",
    "3) Сформулировать правила расчета и рассчитать приблизительный средний тариф ЖКХ по субъектам РФ за 2023 год по данным ГИС ЖКХ и/или другим источникам \n",
    "4) Определить объем рынка ЖКХ в рублях по субъектам РФ и в целом в РФ\n",
    "\n",
    "## Результат ✅\n",
    "\n",
    "1) Оценка объема рынка ЖКХ по субъектам РФ и в целом в РФ\n",
    "2) Файл в формате ipynb с кодом расчета объема рынка ЖКХ в рублях и коротким описанием методологии расчета"
   ]
  },
  {
   "cell_type": "markdown",
   "id": "724fd40c",
   "metadata": {},
   "source": [
    "## Алгоритм решения задачи 👨‍💻\n",
    "\n",
    "1) Установить вводные данные исследования: отобрать группу населения для изучения, их место и площадь жилья, кол-во человек внутри группы + определить тарифы ЖКХ, выплачиваемые рассматриваемой группой;\n",
    "2) Загрузить имеющиеся данные по рассматриваемым тарифам: сами тарифы и их норма потребления;\n",
    "3) Обработать данные: отобрать нужные данные, убрать выбросы;\n",
    "4) Рассчитать средние выплаты по ЖКХ на регионы и на РФ в целом;\n",
    "5) Сравнить полученные данные с похожими исследованиями или статьями."
   ]
  },
  {
   "cell_type": "markdown",
   "id": "be1ad3f1",
   "metadata": {},
   "source": [
    "# =========================================================="
   ]
  },
  {
   "cell_type": "code",
   "execution_count": 122,
   "id": "f73def89",
   "metadata": {},
   "outputs": [],
   "source": [
    "import matplotlib.pyplot as plt \n",
    "import numpy as np\n",
    "import os\n",
    "import pandas as pd\n",
    "import random\n",
    "import requests\n",
    "from tqdm import tqdm"
   ]
  },
  {
   "cell_type": "markdown",
   "id": "6066ba56",
   "metadata": {},
   "source": [
    "## 1. Установливаем вводные данные исследования"
   ]
  },
  {
   "cell_type": "markdown",
   "id": "eb92c810",
   "metadata": {},
   "source": [
    "**Изучаемая группа населения**\n",
    "- Кол-во людей в домохозяйстве - 3 [Ссылка](https://foxtime.ru/chto-iz-sebya-predstavlyaet-srednestatisticheskaya-semya-v-rossii/#:~:text=%D0%91%D0%BE%D0%BB%D1%8C%D1%88%D0%B8%D0%BD%D1%81%D1%82%D0%B2%D0%BE%20%D1%80%D0%BE%D1%81%D1%81%D0%B8%D0%B9%D1%81%D0%BA%D0%B8%D1%85%20%D1%81%D0%B5%D0%BC%D0%B5%D0%B9%20%D0%B8%D0%BC%D0%B5%D1%8E%D1%82%20%D1%82%D0%BE%D0%BB%D1%8C%D0%BA%D0%BE,%2C%20%D1%87%D0%B5%D1%82%D0%B2%D0%B5%D1%80%D1%82%D1%8C%20%D1%81%D0%B5%D0%BC%D0%B5%D0%B9%20%E2%80%93%20%D0%B8%D0%B7%20%D1%87%D0%B5%D1%82%D1%8B%D1%80%D1%91%D1%85.)\n",
    "- Условия проживания - город, квартирный дом, квартира в частной собственности, есть газовая плита\n",
    "- Площадь жилья - 52.3 м$^2$ [Ссылка](https://versia.ru/v-rossii-umenshilas-srednyaya-ploshhad-kvartir#:~:text=%D0%97%D0%B0%20%D0%BF%D0%BE%D1%81%D0%BB%D0%B5%D0%B4%D0%BD%D0%B8%D0%B5%20%D0%B4%D0%B5%D1%81%D1%8F%D1%82%D1%8C%20%D0%BB%D0%B5%D1%82%20%D1%81%D1%80%D0%B5%D0%B4%D0%BD%D1%8F%D1%8F,%D1%81%D0%BE%D1%81%D1%82%D0%B0%D0%B2%D0%BB%D1%8F%D0%B5%D1%82%2052%2C3%20%D0%BA%D0%B2%D0%B0%D0%B4%D1%80%D0%B0%D1%82%D0%BD%D1%8B%D1%85%20%D0%BC%D0%B5%D1%82%D1%80%D0%B0.)\n",
    "- Уплачиваемые тарифы:\n",
    "    - Электричество\n",
    "    - Холодная вода\n",
    "    - Горячая вода\n",
    "    - Водоотведение\n",
    "    - Отопление\n",
    "    - Газ\n",
    "    - Плата за текущий ремонт и содержание\n",
    "    - Взносы на капитальный ремонт\n",
    "    - Вывоз мусора"
   ]
  },
  {
   "cell_type": "code",
   "execution_count": 50,
   "id": "23807d67",
   "metadata": {},
   "outputs": [],
   "source": [
    "living_area = 52.3\n",
    "living_people = 3"
   ]
  },
  {
   "cell_type": "markdown",
   "id": "71968953",
   "metadata": {},
   "source": [
    "## 2. Загружаем все необходимые данные"
   ]
  },
  {
   "cell_type": "markdown",
   "id": "8c66a119",
   "metadata": {},
   "source": [
    "#### 1) Тарифы на оплату коммунальных ресурсов\n",
    "URL: https://dom.gosuslugi.ru/filestore/publicDownloadServlet?context=tariff-exports&uid=14a51197-f631-4337-b7ae-f2c968e96fb1"
   ]
  },
  {
   "cell_type": "code",
   "execution_count": 14,
   "id": "6fbd876e",
   "metadata": {},
   "outputs": [
    {
     "name": "stderr",
     "output_type": "stream",
     "text": [
      "100%|███████████████████████████████████████████| 81/81 [01:23<00:00,  1.03s/it]\n"
     ]
    }
   ],
   "source": [
    "data_path = 'Data/Тарифы на оплату коммунальных ресурсов от 29.05.2023/'\n",
    "rate_files = [i for i in os.listdir(data_path) if '.xlsx' in i and '$' not in i] \n",
    "rates_df = pd.DataFrame()\n",
    "for file in tqdm(rate_files):\n",
    "    df = pd.read_excel(data_path + file)\n",
    "    df['Регион'] = file.split('.')[0]\n",
    "    rates_df = pd.concat([rates_df, df])\n",
    "\n",
    "\n",
    "# Оставляем только нужные колонки\n",
    "rates_df = rates_df[['Регион',\n",
    "                     'Вид тарифа',\n",
    "                     'Величина тарифа (ставки тарифа)']].reset_index(drop=True)"
   ]
  },
  {
   "cell_type": "code",
   "execution_count": 20,
   "id": "f2825d72",
   "metadata": {},
   "outputs": [
    {
     "data": {
      "text/html": [
       "<div>\n",
       "<style scoped>\n",
       "    .dataframe tbody tr th:only-of-type {\n",
       "        vertical-align: middle;\n",
       "    }\n",
       "\n",
       "    .dataframe tbody tr th {\n",
       "        vertical-align: top;\n",
       "    }\n",
       "\n",
       "    .dataframe thead th {\n",
       "        text-align: right;\n",
       "    }\n",
       "</style>\n",
       "<table border=\"1\" class=\"dataframe\">\n",
       "  <thead>\n",
       "    <tr style=\"text-align: right;\">\n",
       "      <th></th>\n",
       "      <th>Регион</th>\n",
       "      <th>Вид тарифа</th>\n",
       "      <th>Величина тарифа (ставки тарифа)</th>\n",
       "      <th>Метрика</th>\n",
       "    </tr>\n",
       "  </thead>\n",
       "  <tbody>\n",
       "    <tr>\n",
       "      <th>0</th>\n",
       "      <td>Астраханская область</td>\n",
       "      <td>Тариф на техническую воду</td>\n",
       "      <td>36.62</td>\n",
       "      <td>Кубический метр</td>\n",
       "    </tr>\n",
       "    <tr>\n",
       "      <th>1</th>\n",
       "      <td>Астраханская область</td>\n",
       "      <td>Тариф на тепловую энергию (мощность)</td>\n",
       "      <td>1910.79</td>\n",
       "      <td>Гигакалория</td>\n",
       "    </tr>\n",
       "    <tr>\n",
       "      <th>2</th>\n",
       "      <td>Астраханская область</td>\n",
       "      <td>Тариф на водоотведение</td>\n",
       "      <td>29.80</td>\n",
       "      <td>Кубический метр</td>\n",
       "    </tr>\n",
       "    <tr>\n",
       "      <th>3</th>\n",
       "      <td>Астраханская область</td>\n",
       "      <td>Тариф на техническую воду</td>\n",
       "      <td>5.93</td>\n",
       "      <td>Кубический метр</td>\n",
       "    </tr>\n",
       "    <tr>\n",
       "      <th>4</th>\n",
       "      <td>Астраханская область</td>\n",
       "      <td>Тариф на техническую воду</td>\n",
       "      <td>31.83</td>\n",
       "      <td>Кубический метр</td>\n",
       "    </tr>\n",
       "  </tbody>\n",
       "</table>\n",
       "</div>"
      ],
      "text/plain": [
       "                 Регион                            Вид тарифа  \\\n",
       "0  Астраханская область             Тариф на техническую воду   \n",
       "1  Астраханская область  Тариф на тепловую энергию (мощность)   \n",
       "2  Астраханская область                Тариф на водоотведение   \n",
       "3  Астраханская область             Тариф на техническую воду   \n",
       "4  Астраханская область             Тариф на техническую воду   \n",
       "\n",
       "   Величина тарифа (ставки тарифа)          Метрика  \n",
       "0                            36.62  Кубический метр  \n",
       "1                          1910.79      Гигакалория  \n",
       "2                            29.80  Кубический метр  \n",
       "3                             5.93  Кубический метр  \n",
       "4                            31.83  Кубический метр  "
      ]
     },
     "execution_count": 20,
     "metadata": {},
     "output_type": "execute_result"
    }
   ],
   "source": [
    "rates_df.head()"
   ]
  },
  {
   "cell_type": "code",
   "execution_count": 214,
   "id": "3e7d0ab2",
   "metadata": {},
   "outputs": [],
   "source": [
    "#x = rates_df.copy()\n",
    "#rates_df = x.copy()"
   ]
  },
  {
   "cell_type": "markdown",
   "id": "de953752",
   "metadata": {},
   "source": [
    "#### 2) Нормативы потребления коммунальных услуг\n",
    "URL: https://dom.gosuslugi.ru/rate-consumption/api/rest/services/pconsumptions/downloadzip"
   ]
  },
  {
   "cell_type": "code",
   "execution_count": 18,
   "id": "60e67c8c",
   "metadata": {},
   "outputs": [
    {
     "name": "stderr",
     "output_type": "stream",
     "text": [
      "100%|███████████████████████████████████████████| 85/85 [00:22<00:00,  3.81it/s]\n"
     ]
    }
   ],
   "source": [
    "data_path = 'Data/Нормативы потребления коммунальных услуг (25.05.2023)/'\n",
    "cons_files = [i for i in os.listdir(data_path) if '.xlsx' in i and '$' not in i] \n",
    "cons_df = pd.DataFrame()\n",
    "for file in tqdm(cons_files):\n",
    "    df = pd.read_excel(data_path + file)\n",
    "    df['Регион'] = file.split(' - ')[0]\n",
    "    cons_df = pd.concat([cons_df, df])\n",
    "\n",
    "# Оставляем только нужные колонки, не забыв поставить нужные фильтры\n",
    "cons_df = cons_df[cons_df['Состояние норматива']=='Действующий'][['Регион', 'Коммунальная услуга', 'Величина норматива']]"
   ]
  },
  {
   "cell_type": "code",
   "execution_count": 263,
   "id": "2a1931d6",
   "metadata": {},
   "outputs": [],
   "source": [
    "#y = cons_df.copy()\n",
    "#cons_df = y.copy()"
   ]
  },
  {
   "cell_type": "code",
   "execution_count": 254,
   "id": "7c5d08fb",
   "metadata": {},
   "outputs": [
    {
     "data": {
      "text/html": [
       "<div>\n",
       "<style scoped>\n",
       "    .dataframe tbody tr th:only-of-type {\n",
       "        vertical-align: middle;\n",
       "    }\n",
       "\n",
       "    .dataframe tbody tr th {\n",
       "        vertical-align: top;\n",
       "    }\n",
       "\n",
       "    .dataframe thead th {\n",
       "        text-align: right;\n",
       "    }\n",
       "</style>\n",
       "<table border=\"1\" class=\"dataframe\">\n",
       "  <thead>\n",
       "    <tr style=\"text-align: right;\">\n",
       "      <th></th>\n",
       "      <th>Регион</th>\n",
       "      <th>Коммунальная услуга</th>\n",
       "      <th>Величина норматива</th>\n",
       "    </tr>\n",
       "  </thead>\n",
       "  <tbody>\n",
       "    <tr>\n",
       "      <th>0</th>\n",
       "      <td>Волгоградская область</td>\n",
       "      <td>Отопление</td>\n",
       "      <td>0.01 ГИГАКАЛ на М2 общей площади жилого помеще...</td>\n",
       "    </tr>\n",
       "    <tr>\n",
       "      <th>1</th>\n",
       "      <td>Волгоградская область</td>\n",
       "      <td>Отопление</td>\n",
       "      <td>0.014 ГИГАКАЛ на М2 общей площади жилого помещ...</td>\n",
       "    </tr>\n",
       "    <tr>\n",
       "      <th>2</th>\n",
       "      <td>Волгоградская область</td>\n",
       "      <td>Отопление</td>\n",
       "      <td>0.011 ГИГАКАЛ на М2 общей площади жилого помещ...</td>\n",
       "    </tr>\n",
       "    <tr>\n",
       "      <th>3</th>\n",
       "      <td>Волгоградская область</td>\n",
       "      <td>Отведение сточных вод</td>\n",
       "      <td>1.83 М3 в месяц на ЧЕЛ</td>\n",
       "    </tr>\n",
       "    <tr>\n",
       "      <th>4</th>\n",
       "      <td>Волгоградская область</td>\n",
       "      <td>Отопление</td>\n",
       "      <td>0.016 ГИГАКАЛ на М2 общей площади жилого помещ...</td>\n",
       "    </tr>\n",
       "  </tbody>\n",
       "</table>\n",
       "</div>"
      ],
      "text/plain": [
       "                  Регион    Коммунальная услуга  \\\n",
       "0  Волгоградская область              Отопление   \n",
       "1  Волгоградская область              Отопление   \n",
       "2  Волгоградская область              Отопление   \n",
       "3  Волгоградская область  Отведение сточных вод   \n",
       "4  Волгоградская область              Отопление   \n",
       "\n",
       "                                  Величина норматива  \n",
       "0  0.01 ГИГАКАЛ на М2 общей площади жилого помеще...  \n",
       "1  0.014 ГИГАКАЛ на М2 общей площади жилого помещ...  \n",
       "2  0.011 ГИГАКАЛ на М2 общей площади жилого помещ...  \n",
       "3                             1.83 М3 в месяц на ЧЕЛ  \n",
       "4  0.016 ГИГАКАЛ на М2 общей площади жилого помещ...  "
      ]
     },
     "execution_count": 254,
     "metadata": {},
     "output_type": "execute_result"
    }
   ],
   "source": [
    "cons_df.head()"
   ]
  },
  {
   "cell_type": "markdown",
   "id": "6be1f8e5",
   "metadata": {},
   "source": [
    "#### 3) Средний тариф на капитальный ремонт по субъектам РФ\n",
    "Этого тарифа не было в справочнике тарифов на сайте dom.gosuslugi.ru, поэтому выгружаем его из отдельного источника"
   ]
  },
  {
   "cell_type": "code",
   "execution_count": 21,
   "id": "f8dce5a5",
   "metadata": {},
   "outputs": [],
   "source": [
    "# Данные были не доступны для скачивания, поэтому парсим таблицу напрямую из html страницы\n",
    "url = 'https://gogov.ru/articles/utility-rates/overhaul'\n",
    "headers = {'User-agent': 'Mozilla/5.0'}\n",
    "rep_df = pd.read_html(requests.get(url,\n",
    "                               headers=headers).text,\n",
    "                               attrs={'id': 'm-table'})[0]\n",
    "rep_df = rep_df[['Регион', 'Тариф на капремонт, руб.']]"
   ]
  },
  {
   "cell_type": "markdown",
   "id": "3e46c326",
   "metadata": {},
   "source": [
    "#### 4) Средние выплаты за текущий ремонт и содержание\n",
    "Этого тарифа не было в справочнике тарифов на сайте dom.gosuslugi.ru и собранных воедино данных по разным регионам нет, поэтому возьмем выплаты в среднем крупном городе Ярославле - 24 рубля за м$^2$ ([Ссылка](https://76.ru/text/gorod/2022/11/28/71850602/#:~:text=%D1%81%D0%BE%D0%B4%D0%B5%D1%80%D0%B6%D0%B0%D0%BD%D0%B8%D0%B5%20%D0%B6%D0%B8%D0%BB%D0%BE%D0%B3%D0%BE%20%D0%BF%D0%BE%D0%BC%D0%B5%D1%89%D0%B5%D0%BD%D0%B8%D1%8F%20%D0%B2%20%D0%B4%D0%BE%D0%BC%D0%B0%D1%85%2C%20%D0%B8%D0%BC%D0%B5%D1%8E%D1%89%D0%B8%D1%85%20%D0%B2%D1%81%D0%B5%20%D0%B2%D0%B8%D0%B4%D1%8B%20%D0%B1%D0%BB%D0%B0%D0%B3%D0%BE%D1%83%D1%81%D1%82%D1%80%D0%BE%D0%B9%D1%81%D1%82%D0%B2%D0%B0%2C%20%D0%B2%D0%BA%D0%BB%D1%8E%D1%87%D0%B0%D1%8F,%D0%BA%D0%B2%D0%B0%D1%80%D1%82%D0%B8%D1%80%D1%8B%20%D0%B4%D0%BE%2024%2C01%20%D1%80%D1%83%D0%B1%D0%BB%D1%8F.)). Таким образом, в нашем случае выплаты будут равны:"
   ]
  },
  {
   "cell_type": "code",
   "execution_count": 52,
   "id": "ade3fc57",
   "metadata": {},
   "outputs": [
    {
     "data": {
      "text/plain": [
       "1255.1999999999998"
      ]
     },
     "execution_count": 52,
     "metadata": {},
     "output_type": "execute_result"
    }
   ],
   "source": [
    "living_area * 24"
   ]
  },
  {
   "cell_type": "markdown",
   "id": "3a85b113",
   "metadata": {},
   "source": [
    "#### 5) Средние выплаты за вывоз мусора"
   ]
  },
  {
   "cell_type": "markdown",
   "id": "d57d8275",
   "metadata": {},
   "source": [
    "Этого тарифа не было в справочнике тарифов на сайте dom.gosuslugi.ru и собранных воедино данных по разным регионам нет, поэтому возьмем выплаты в среднем крупном городе Ярославле - 584.33 руб. за м$^3$ при нормативе 2.196 м$^3$ в год ([Ссылка](https://regoperatory.ru/tarify-tko-yaroslavskaya-oblast#rashet)). Таким образом, в нашем случае выплаты будут равны:"
   ]
  },
  {
   "cell_type": "code",
   "execution_count": 51,
   "id": "d04b6a7b",
   "metadata": {},
   "outputs": [
    {
     "data": {
      "text/plain": [
       "320.79717000000005"
      ]
     },
     "execution_count": 51,
     "metadata": {},
     "output_type": "execute_result"
    }
   ],
   "source": [
    "living_people * 2.196 * 584.33 / 12"
   ]
  },
  {
   "cell_type": "markdown",
   "id": "9d8c23c8",
   "metadata": {},
   "source": [
    "## 3. Предобрабатываем данные"
   ]
  },
  {
   "cell_type": "markdown",
   "id": "d6f1c2b0",
   "metadata": {},
   "source": [
    "#### 1) Тарифы на оплату коммунальных ресурсов"
   ]
  },
  {
   "cell_type": "markdown",
   "id": "2c71f3da",
   "metadata": {},
   "source": [
    "Преобразование числовых данных:"
   ]
  },
  {
   "cell_type": "code",
   "execution_count": 215,
   "id": "bc5e2de5",
   "metadata": {},
   "outputs": [],
   "source": [
    "rate = rates_df['Величина тарифа (ставки тарифа)'].str.split(' ').str[0].astype('float')\n",
    "metric = rates_df['Величина тарифа (ставки тарифа)'].str.split('/').str[1]\n",
    "rates_df['Величина тарифа (ставки тарифа)'] = rate\n",
    "rates_df['Метрика'] = metric"
   ]
  },
  {
   "cell_type": "markdown",
   "id": "3615d388",
   "metadata": {},
   "source": [
    "Проверим данные на выбросы:"
   ]
  },
  {
   "cell_type": "code",
   "execution_count": 216,
   "id": "dc332433",
   "metadata": {},
   "outputs": [
    {
     "data": {
      "text/html": [
       "<div>\n",
       "<style scoped>\n",
       "    .dataframe tbody tr th:only-of-type {\n",
       "        vertical-align: middle;\n",
       "    }\n",
       "\n",
       "    .dataframe tbody tr th {\n",
       "        vertical-align: top;\n",
       "    }\n",
       "\n",
       "    .dataframe thead th {\n",
       "        text-align: right;\n",
       "    }\n",
       "</style>\n",
       "<table border=\"1\" class=\"dataframe\">\n",
       "  <thead>\n",
       "    <tr style=\"text-align: right;\">\n",
       "      <th></th>\n",
       "      <th>Величина тарифа (ставки тарифа)</th>\n",
       "    </tr>\n",
       "  </thead>\n",
       "  <tbody>\n",
       "    <tr>\n",
       "      <th>count</th>\n",
       "      <td>1.442600e+05</td>\n",
       "    </tr>\n",
       "    <tr>\n",
       "      <th>mean</th>\n",
       "      <td>3.196043e+04</td>\n",
       "    </tr>\n",
       "    <tr>\n",
       "      <th>std</th>\n",
       "      <td>3.434318e+06</td>\n",
       "    </tr>\n",
       "    <tr>\n",
       "      <th>min</th>\n",
       "      <td>0.000000e+00</td>\n",
       "    </tr>\n",
       "    <tr>\n",
       "      <th>25%</th>\n",
       "      <td>3.436000e+01</td>\n",
       "    </tr>\n",
       "    <tr>\n",
       "      <th>50%</th>\n",
       "      <td>7.140000e+01</td>\n",
       "    </tr>\n",
       "    <tr>\n",
       "      <th>75%</th>\n",
       "      <td>2.098767e+03</td>\n",
       "    </tr>\n",
       "    <tr>\n",
       "      <th>max</th>\n",
       "      <td>8.237290e+08</td>\n",
       "    </tr>\n",
       "  </tbody>\n",
       "</table>\n",
       "</div>"
      ],
      "text/plain": [
       "       Величина тарифа (ставки тарифа)\n",
       "count                     1.442600e+05\n",
       "mean                      3.196043e+04\n",
       "std                       3.434318e+06\n",
       "min                       0.000000e+00\n",
       "25%                       3.436000e+01\n",
       "50%                       7.140000e+01\n",
       "75%                       2.098767e+03\n",
       "max                       8.237290e+08"
      ]
     },
     "execution_count": 216,
     "metadata": {},
     "output_type": "execute_result"
    }
   ],
   "source": [
    "rates_df.describe()"
   ]
  },
  {
   "cell_type": "markdown",
   "id": "2ece3d5f",
   "metadata": {},
   "source": [
    "Видя слишком большое максимальное значение, делаем вывод, что выбросы есть. Нужно от них избавиться:"
   ]
  },
  {
   "cell_type": "code",
   "execution_count": 217,
   "id": "e59fb21e",
   "metadata": {},
   "outputs": [
    {
     "name": "stderr",
     "output_type": "stream",
     "text": [
      "100%|███████████████████████████████████████████| 81/81 [00:51<00:00,  1.56it/s]\n"
     ]
    }
   ],
   "source": [
    "rates_df_clear = pd.DataFrame()\n",
    "for r in tqdm(rates_df['Регион'].unique()):\n",
    "    for m in rates_df[rates_df['Регион']==r]['Метрика'].unique():\n",
    "        for t in rates_df[(rates_df['Метрика']==m) & (rates_df['Регион']==r)]['Вид тарифа'].unique():\n",
    "            # Обязательно расчет в рамках одной метрики, региона и тарифа\n",
    "            df = rates_df[(rates_df['Метрика']==m) & (rates_df['Регион']==r) & (rates_df['Вид тарифа']==t)].copy()\n",
    "            # Находит границы первого и третьего квартиля и считаем разницу между ними\n",
    "            Q1 = np.percentile(df['Величина тарифа (ставки тарифа)'], 25, method='midpoint')\n",
    "            Q3 = np.percentile(df['Величина тарифа (ставки тарифа)'], 75, method='midpoint')\n",
    "            IQR = Q3 - Q1\n",
    "            # От третьего и первого квартиля движемся вверх и вниз на величину, равную 1.5 IQR, считаем допустимые границы\n",
    "            upper = Q3 + 1.5*IQR\n",
    "            lower = Q1 - 1.5*IQR\n",
    "            # Удаляем выбивающиеся строки\n",
    "            df = df[df['Величина тарифа (ставки тарифа)'] < upper]\n",
    "            df = df[df['Величина тарифа (ставки тарифа)'] > lower]\n",
    "            # Собираем новую таблицу\n",
    "            rates_df_clear = pd.concat([rates_df_clear, df])"
   ]
  },
  {
   "cell_type": "code",
   "execution_count": 218,
   "id": "da06b553",
   "metadata": {},
   "outputs": [
    {
     "data": {
      "text/plain": [
       "(136832, 4)"
      ]
     },
     "execution_count": 218,
     "metadata": {},
     "output_type": "execute_result"
    }
   ],
   "source": [
    "rates_df_clear.shape"
   ]
  },
  {
   "cell_type": "code",
   "execution_count": 219,
   "id": "0a13eaf4",
   "metadata": {},
   "outputs": [],
   "source": [
    "rates_df = rates_df_clear.copy()"
   ]
  },
  {
   "cell_type": "markdown",
   "id": "81a05966",
   "metadata": {},
   "source": [
    "На некоторые тарифы приходится по несколько метрик, это может сильно сбить наши результаты, поэтому по каждому тарифу оставим лишь самую частую метрику:"
   ]
  },
  {
   "cell_type": "code",
   "execution_count": 220,
   "id": "730e219b",
   "metadata": {
    "scrolled": true
   },
   "outputs": [
    {
     "data": {
      "text/html": [
       "<div>\n",
       "<style scoped>\n",
       "    .dataframe tbody tr th:only-of-type {\n",
       "        vertical-align: middle;\n",
       "    }\n",
       "\n",
       "    .dataframe tbody tr th {\n",
       "        vertical-align: top;\n",
       "    }\n",
       "\n",
       "    .dataframe thead th {\n",
       "        text-align: right;\n",
       "    }\n",
       "</style>\n",
       "<table border=\"1\" class=\"dataframe\">\n",
       "  <thead>\n",
       "    <tr style=\"text-align: right;\">\n",
       "      <th></th>\n",
       "      <th>Вид тарифа</th>\n",
       "      <th>Метрика</th>\n",
       "    </tr>\n",
       "  </thead>\n",
       "  <tbody>\n",
       "    <tr>\n",
       "      <th>16</th>\n",
       "      <td>Цена на топливо твердое, реализуемое гражданам</td>\n",
       "      <td>6</td>\n",
       "    </tr>\n",
       "    <tr>\n",
       "      <th>4</th>\n",
       "      <td>Тариф на горячую воду (горячее водоснабжение) ...</td>\n",
       "      <td>4</td>\n",
       "    </tr>\n",
       "    <tr>\n",
       "      <th>5</th>\n",
       "      <td>Тариф на горячую воду в открытых системах тепл...</td>\n",
       "      <td>4</td>\n",
       "    </tr>\n",
       "    <tr>\n",
       "      <th>6</th>\n",
       "      <td>Тариф на питьевую воду</td>\n",
       "      <td>2</td>\n",
       "    </tr>\n",
       "    <tr>\n",
       "      <th>10</th>\n",
       "      <td>Тариф на техническую воду</td>\n",
       "      <td>2</td>\n",
       "    </tr>\n",
       "    <tr>\n",
       "      <th>1</th>\n",
       "      <td>Розничная цена на газ, реализуемый населению</td>\n",
       "      <td>2</td>\n",
       "    </tr>\n",
       "    <tr>\n",
       "      <th>8</th>\n",
       "      <td>Тариф на тепловую энергию (мощность)</td>\n",
       "      <td>2</td>\n",
       "    </tr>\n",
       "    <tr>\n",
       "      <th>3</th>\n",
       "      <td>Тариф на водоотведение</td>\n",
       "      <td>2</td>\n",
       "    </tr>\n",
       "    <tr>\n",
       "      <th>2</th>\n",
       "      <td>Розничная цена на сжиженный газ, реализуемый н...</td>\n",
       "      <td>2</td>\n",
       "    </tr>\n",
       "    <tr>\n",
       "      <th>7</th>\n",
       "      <td>Тариф на подвоз воды</td>\n",
       "      <td>1</td>\n",
       "    </tr>\n",
       "    <tr>\n",
       "      <th>9</th>\n",
       "      <td>Тариф на теплоноситель</td>\n",
       "      <td>1</td>\n",
       "    </tr>\n",
       "    <tr>\n",
       "      <th>11</th>\n",
       "      <td>Тариф на транспортировку питьевой воды</td>\n",
       "      <td>1</td>\n",
       "    </tr>\n",
       "    <tr>\n",
       "      <th>12</th>\n",
       "      <td>Тариф на транспортировку сточных вод</td>\n",
       "      <td>1</td>\n",
       "    </tr>\n",
       "    <tr>\n",
       "      <th>13</th>\n",
       "      <td>Тариф на транспортировку технической воды</td>\n",
       "      <td>1</td>\n",
       "    </tr>\n",
       "    <tr>\n",
       "      <th>14</th>\n",
       "      <td>Тариф на электрическую энергию (мощность), пос...</td>\n",
       "      <td>1</td>\n",
       "    </tr>\n",
       "    <tr>\n",
       "      <th>15</th>\n",
       "      <td>Цена на топливо печное бытовое, реализуемое гр...</td>\n",
       "      <td>1</td>\n",
       "    </tr>\n",
       "    <tr>\n",
       "      <th>0</th>\n",
       "      <td>Плата за услуги по поддержанию резервной тепло...</td>\n",
       "      <td>1</td>\n",
       "    </tr>\n",
       "  </tbody>\n",
       "</table>\n",
       "</div>"
      ],
      "text/plain": [
       "                                           Вид тарифа  Метрика\n",
       "16     Цена на топливо твердое, реализуемое гражданам        6\n",
       "4   Тариф на горячую воду (горячее водоснабжение) ...        4\n",
       "5   Тариф на горячую воду в открытых системах тепл...        4\n",
       "6                              Тариф на питьевую воду        2\n",
       "10                          Тариф на техническую воду        2\n",
       "1        Розничная цена на газ, реализуемый населению        2\n",
       "8                Тариф на тепловую энергию (мощность)        2\n",
       "3                              Тариф на водоотведение        2\n",
       "2   Розничная цена на сжиженный газ, реализуемый н...        2\n",
       "7                                Тариф на подвоз воды        1\n",
       "9                              Тариф на теплоноситель        1\n",
       "11             Тариф на транспортировку питьевой воды        1\n",
       "12               Тариф на транспортировку сточных вод        1\n",
       "13          Тариф на транспортировку технической воды        1\n",
       "14  Тариф на электрическую энергию (мощность), пос...        1\n",
       "15  Цена на топливо печное бытовое, реализуемое гр...        1\n",
       "0   Плата за услуги по поддержанию резервной тепло...        1"
      ]
     },
     "execution_count": 220,
     "metadata": {},
     "output_type": "execute_result"
    }
   ],
   "source": [
    "rates_df.groupby('Вид тарифа')['Метрика'].nunique().reset_index().sort_values(by='Метрика', ascending=False)"
   ]
  },
  {
   "cell_type": "code",
   "execution_count": 221,
   "id": "da7f11d6",
   "metadata": {},
   "outputs": [],
   "source": [
    "rates_df_clear = pd.DataFrame()\n",
    "for r in rates_df['Вид тарифа'].unique():\n",
    "    df = rates_df[rates_df['Вид тарифа']==r]\n",
    "    top_metric = df['Метрика'].value_counts().index[0]\n",
    "    df = df[df['Метрика']==top_metric]\n",
    "    rates_df_clear = pd.concat([rates_df_clear, df])"
   ]
  },
  {
   "cell_type": "code",
   "execution_count": 222,
   "id": "5df1b95b",
   "metadata": {},
   "outputs": [
    {
     "data": {
      "text/plain": [
       "(122924, 4)"
      ]
     },
     "execution_count": 222,
     "metadata": {},
     "output_type": "execute_result"
    }
   ],
   "source": [
    "rates_df_clear.shape"
   ]
  },
  {
   "cell_type": "code",
   "execution_count": 230,
   "id": "eac5663a",
   "metadata": {},
   "outputs": [],
   "source": [
    "rates_df = rates_df_clear.copy()"
   ]
  },
  {
   "cell_type": "markdown",
   "id": "86a79887",
   "metadata": {},
   "source": [
    "Преобразуем наименование тарифов в иной вид, чтобы в дальнейшем связать эту таблицу с таблицей нормы потребления:"
   ]
  },
  {
   "cell_type": "code",
   "execution_count": 231,
   "id": "307129fd",
   "metadata": {},
   "outputs": [],
   "source": [
    "# Переименуем тарифы в упрощенный вид и уберем лишние\n",
    "rates_mapping = {\n",
    "        'Тариф на техническую воду': 'Холодная вода',\n",
    "        'Тариф на питьевую воду': 'Холодная вода',\n",
    "        'Тариф на горячую воду (горячее водоснабжение) в закрытых системах теплоснабжения': 'Горячая вода',\n",
    "        'Тариф на горячую воду в открытых системах теплоснабжения (горячего водоснабжения)': 'Горячая вода',\n",
    "        'Тариф на тепловую энергию (мощность)': 'Отопление',\n",
    "        'Розничная цена на газ, реализуемый населению': 'Газ',\n",
    "        'Розничная цена на сжиженный газ, реализуемый населению для бытовых нужд ': 'Газ',\n",
    "        'Тариф на водоотведение': 'Водоотведение',\n",
    "        'Тариф на электрическую энергию (мощность), поставляемую населению и приравненным к нему категориям потребителей': \n",
    "                                                                                                        'Электричество'\n",
    "}\n",
    "\n",
    "rates_df['Вид тарифа'] = rates_df['Вид тарифа'].map(rates_mapping)\n",
    "rates_df = rates_df.dropna()"
   ]
  },
  {
   "cell_type": "markdown",
   "id": "89a378cf",
   "metadata": {},
   "source": [
    "#### 2) Нормативы потребления коммунальных услуг"
   ]
  },
  {
   "cell_type": "markdown",
   "id": "6f0aa592",
   "metadata": {},
   "source": [
    "Преобразование числовых данных:"
   ]
  },
  {
   "cell_type": "code",
   "execution_count": 264,
   "id": "2a610c5a",
   "metadata": {},
   "outputs": [],
   "source": [
    "norm = cons_df['Величина норматива'].str.split(' ').str[0].astype('float')\n",
    "metric = cons_df['Величина норматива'].str.split(' ').str[1]\n",
    "apply_on = cons_df['Величина норматива']\\\n",
    "        .apply(lambda x: 'м2' if 'м2' in x.lower() else 'чел' if 'чел' in x.lower() else '')\n",
    "\n",
    "cons_df['Величина норматива'] = norm\n",
    "cons_df['Метрика'] = metric\n",
    "cons_df['Расчет на'] = apply_on\n",
    "\n",
    "# Оставляем лишь те строки, где норматив расчитан либо на человека, либо на площадь жилья\n",
    "cons_df = cons_df[cons_df['Расчет на']!='']"
   ]
  },
  {
   "cell_type": "markdown",
   "id": "dbb19f86",
   "metadata": {},
   "source": [
    "Преобразуем наименование коммунальных услуг в иной вид, чтобы в дальнейшем связать эту таблицу с таблицей тарифов:"
   ]
  },
  {
   "cell_type": "code",
   "execution_count": 265,
   "id": "7baa5a79",
   "metadata": {},
   "outputs": [
    {
     "data": {
      "text/plain": [
       "array(['Отопление', 'Отведение сточных вод', 'Электроснабжение',\n",
       "       'Холодное водоснабжение', 'Горячее водоснабжение', 'Газоснабжение',\n",
       "       'Обращение с твердыми коммунальными отходами', 'Нет информации'],\n",
       "      dtype=object)"
      ]
     },
     "execution_count": 265,
     "metadata": {},
     "output_type": "execute_result"
    }
   ],
   "source": [
    "cons_df['Коммунальная услуга'].unique()"
   ]
  },
  {
   "cell_type": "code",
   "execution_count": 266,
   "id": "25414d75",
   "metadata": {},
   "outputs": [],
   "source": [
    "serv_mapping = {\n",
    "        'Холодное водоснабжение': 'Холодная вода',\n",
    "        'Горячее водоснабжение': 'Горячая вода',\n",
    "        'Отопление': 'Отопление',\n",
    "        'Газоснабжение': 'Газ',\n",
    "        'Отведение сточных вод': 'Водоотведение',\n",
    "        'Электроснабжение': 'Электричество'\n",
    "}\n",
    "\n",
    "cons_df['Коммунальная услуга'] = cons_df['Коммунальная услуга'].map(serv_mapping)\n",
    "cons_df = cons_df.dropna()"
   ]
  },
  {
   "cell_type": "markdown",
   "id": "ca2597de",
   "metadata": {},
   "source": [
    "На некоторые нормативы приходится по несколько метрик, это может сильно сбить наши результаты, поэтому по каждому нормативу оставим лишь самую частую метрику:"
   ]
  },
  {
   "cell_type": "code",
   "execution_count": 269,
   "id": "76e9afe9",
   "metadata": {},
   "outputs": [
    {
     "data": {
      "text/html": [
       "<div>\n",
       "<style scoped>\n",
       "    .dataframe tbody tr th:only-of-type {\n",
       "        vertical-align: middle;\n",
       "    }\n",
       "\n",
       "    .dataframe tbody tr th {\n",
       "        vertical-align: top;\n",
       "    }\n",
       "\n",
       "    .dataframe thead th {\n",
       "        text-align: right;\n",
       "    }\n",
       "</style>\n",
       "<table border=\"1\" class=\"dataframe\">\n",
       "  <thead>\n",
       "    <tr style=\"text-align: right;\">\n",
       "      <th></th>\n",
       "      <th>Коммунальная услуга</th>\n",
       "      <th>Метрика</th>\n",
       "    </tr>\n",
       "  </thead>\n",
       "  <tbody>\n",
       "    <tr>\n",
       "      <th>3</th>\n",
       "      <td>Отопление</td>\n",
       "      <td>5</td>\n",
       "    </tr>\n",
       "    <tr>\n",
       "      <th>2</th>\n",
       "      <td>Горячая вода</td>\n",
       "      <td>3</td>\n",
       "    </tr>\n",
       "    <tr>\n",
       "      <th>1</th>\n",
       "      <td>Газ</td>\n",
       "      <td>2</td>\n",
       "    </tr>\n",
       "    <tr>\n",
       "      <th>4</th>\n",
       "      <td>Холодная вода</td>\n",
       "      <td>2</td>\n",
       "    </tr>\n",
       "    <tr>\n",
       "      <th>0</th>\n",
       "      <td>Водоотведение</td>\n",
       "      <td>1</td>\n",
       "    </tr>\n",
       "    <tr>\n",
       "      <th>5</th>\n",
       "      <td>Электричество</td>\n",
       "      <td>1</td>\n",
       "    </tr>\n",
       "  </tbody>\n",
       "</table>\n",
       "</div>"
      ],
      "text/plain": [
       "  Коммунальная услуга  Метрика\n",
       "3           Отопление        5\n",
       "2        Горячая вода        3\n",
       "1                 Газ        2\n",
       "4       Холодная вода        2\n",
       "0       Водоотведение        1\n",
       "5       Электричество        1"
      ]
     },
     "execution_count": 269,
     "metadata": {},
     "output_type": "execute_result"
    }
   ],
   "source": [
    "cons_df.groupby('Коммунальная услуга')['Метрика'].nunique().reset_index().sort_values(by='Метрика', ascending=False)"
   ]
  },
  {
   "cell_type": "code",
   "execution_count": 272,
   "id": "ffb8e0aa",
   "metadata": {},
   "outputs": [],
   "source": [
    "cons_df_clear = pd.DataFrame()\n",
    "for с in cons_df['Коммунальная услуга'].unique():\n",
    "    df = cons_df[cons_df['Коммунальная услуга']==с]\n",
    "    top_metric = df['Метрика'].value_counts().index[0]\n",
    "    df = df[df['Метрика']==top_metric]\n",
    "    cons_df_clear = pd.concat([cons_df_clear, df])"
   ]
  },
  {
   "cell_type": "code",
   "execution_count": 276,
   "id": "f3fa65e9",
   "metadata": {},
   "outputs": [
    {
     "data": {
      "text/plain": [
       "(52786, 5)"
      ]
     },
     "execution_count": 276,
     "metadata": {},
     "output_type": "execute_result"
    }
   ],
   "source": [
    "cons_df_clear.shape"
   ]
  },
  {
   "cell_type": "code",
   "execution_count": 277,
   "id": "83c84521",
   "metadata": {},
   "outputs": [],
   "source": [
    "cons_df = cons_df_clear.copy()"
   ]
  },
  {
   "cell_type": "markdown",
   "id": "ccee1129",
   "metadata": {},
   "source": [
    "Проверим данные на выбросы:"
   ]
  },
  {
   "cell_type": "code",
   "execution_count": 286,
   "id": "ef40fc72",
   "metadata": {},
   "outputs": [
    {
     "data": {
      "text/html": [
       "<div>\n",
       "<style scoped>\n",
       "    .dataframe tbody tr th:only-of-type {\n",
       "        vertical-align: middle;\n",
       "    }\n",
       "\n",
       "    .dataframe tbody tr th {\n",
       "        vertical-align: top;\n",
       "    }\n",
       "\n",
       "    .dataframe thead th {\n",
       "        text-align: right;\n",
       "    }\n",
       "</style>\n",
       "<table border=\"1\" class=\"dataframe\">\n",
       "  <thead>\n",
       "    <tr style=\"text-align: right;\">\n",
       "      <th></th>\n",
       "      <th>Величина норматива</th>\n",
       "    </tr>\n",
       "  </thead>\n",
       "  <tbody>\n",
       "    <tr>\n",
       "      <th>count</th>\n",
       "      <td>52786.000000</td>\n",
       "    </tr>\n",
       "    <tr>\n",
       "      <th>mean</th>\n",
       "      <td>72.042107</td>\n",
       "    </tr>\n",
       "    <tr>\n",
       "      <th>std</th>\n",
       "      <td>286.832943</td>\n",
       "    </tr>\n",
       "    <tr>\n",
       "      <th>min</th>\n",
       "      <td>0.000000</td>\n",
       "    </tr>\n",
       "    <tr>\n",
       "      <th>25%</th>\n",
       "      <td>0.054200</td>\n",
       "    </tr>\n",
       "    <tr>\n",
       "      <th>50%</th>\n",
       "      <td>3.178000</td>\n",
       "    </tr>\n",
       "    <tr>\n",
       "      <th>75%</th>\n",
       "      <td>8.240000</td>\n",
       "    </tr>\n",
       "    <tr>\n",
       "      <th>max</th>\n",
       "      <td>7167.000000</td>\n",
       "    </tr>\n",
       "  </tbody>\n",
       "</table>\n",
       "</div>"
      ],
      "text/plain": [
       "       Величина норматива\n",
       "count        52786.000000\n",
       "mean            72.042107\n",
       "std            286.832943\n",
       "min              0.000000\n",
       "25%              0.054200\n",
       "50%              3.178000\n",
       "75%              8.240000\n",
       "max           7167.000000"
      ]
     },
     "execution_count": 286,
     "metadata": {},
     "output_type": "execute_result"
    }
   ],
   "source": [
    "cons_df.describe()"
   ]
  },
  {
   "cell_type": "markdown",
   "id": "256a2588",
   "metadata": {},
   "source": [
    "Видя слишком большое максимальное значение, делаем вывод, что выбросы есть. Нужно от них избавиться:"
   ]
  },
  {
   "cell_type": "code",
   "execution_count": 280,
   "id": "f1c75ef8",
   "metadata": {},
   "outputs": [
    {
     "name": "stderr",
     "output_type": "stream",
     "text": [
      "100%|███████████████████████████████████████████| 85/85 [00:13<00:00,  6.47it/s]\n"
     ]
    }
   ],
   "source": [
    "cons_df_clear = pd.DataFrame()\n",
    "for r in tqdm(cons_df['Регион'].unique()):\n",
    "    for m in cons_df[cons_df['Регион']==r]['Метрика'].unique():\n",
    "        for t in cons_df[(cons_df['Метрика']==m) & (cons_df['Регион']==r)]['Коммунальная услуга'].unique():\n",
    "            # Обязательно расчет в рамках одной метрики, региона и тарифа\n",
    "            df = cons_df[(cons_df['Метрика']==m) & (cons_df['Регион']==r) & (cons_df['Коммунальная услуга']==t)].copy()\n",
    "            # Находит границы первого и третьего квартиля и считаем разницу между ними\n",
    "            Q1 = np.percentile(df['Величина норматива'], 25, method='midpoint')\n",
    "            Q3 = np.percentile(df['Величина норматива'], 75, method='midpoint')\n",
    "            IQR = Q3 - Q1\n",
    "            # От третьего и первого квартиля движемся вверх и вниз на величину, равную 1.5 IQR, считаем допустимые границы\n",
    "            upper = Q3 + 1.5*IQR\n",
    "            lower = Q1 - 1.5*IQR\n",
    "            # Удаляем выбивающиеся строки\n",
    "            df = df[df['Величина норматива'] < upper]\n",
    "            df = df[df['Величина норматива'] > lower]\n",
    "            # Собираем новую таблицу\n",
    "            cons_df_clear = pd.concat([cons_df_clear, df])"
   ]
  },
  {
   "cell_type": "code",
   "execution_count": 282,
   "id": "74e9fd5a",
   "metadata": {},
   "outputs": [
    {
     "data": {
      "text/plain": [
       "(51069, 5)"
      ]
     },
     "execution_count": 282,
     "metadata": {},
     "output_type": "execute_result"
    }
   ],
   "source": [
    "cons_df_clear.shape"
   ]
  },
  {
   "cell_type": "code",
   "execution_count": 287,
   "id": "73806834",
   "metadata": {},
   "outputs": [],
   "source": [
    "cons_df = cons_df_clear.copy()"
   ]
  },
  {
   "cell_type": "markdown",
   "id": "25356009",
   "metadata": {},
   "source": [
    "#### 3) Средний тариф на капитальный ремонт по субъектам РФ\n"
   ]
  },
  {
   "cell_type": "markdown",
   "id": "8aa3341c",
   "metadata": {},
   "source": [
    "Преобразование числовых данных:"
   ]
  },
  {
   "cell_type": "code",
   "execution_count": 48,
   "id": "a8dfcae7",
   "metadata": {},
   "outputs": [],
   "source": [
    "# Значение для Крыма парсится с ошибкой, установим его вручную\n",
    "rep_df.loc[rep_df['Регион'] == 'Крым', 'Тариф на капремонт, руб.'] = '7.21'\n",
    "\n",
    "# Заменим запятые на точки и удалим пробелы\n",
    "rep_df['Тариф на капремонт, руб.'] = rep_df['Тариф на капремонт, руб.'].str.replace(',', '.').replace(' ', '')\n",
    "\n",
    "# В случае если два значения через тире, то берет среднее\n",
    "rate = rep_df['Тариф на капремонт, руб.'].apply(lambda x: float(x) if '-' not in x \n",
    "                                         else (float(x.split('-')[0]) + float(x.split(' - ')[1]))/2)\n",
    "rep_df['Тариф на капремонт, руб.'] = rate"
   ]
  },
  {
   "cell_type": "code",
   "execution_count": 49,
   "id": "cd858fa3",
   "metadata": {},
   "outputs": [
    {
     "data": {
      "text/html": [
       "<div>\n",
       "<style scoped>\n",
       "    .dataframe tbody tr th:only-of-type {\n",
       "        vertical-align: middle;\n",
       "    }\n",
       "\n",
       "    .dataframe tbody tr th {\n",
       "        vertical-align: top;\n",
       "    }\n",
       "\n",
       "    .dataframe thead th {\n",
       "        text-align: right;\n",
       "    }\n",
       "</style>\n",
       "<table border=\"1\" class=\"dataframe\">\n",
       "  <thead>\n",
       "    <tr style=\"text-align: right;\">\n",
       "      <th></th>\n",
       "      <th>Регион</th>\n",
       "      <th>Тариф на капремонт, руб.</th>\n",
       "    </tr>\n",
       "  </thead>\n",
       "  <tbody>\n",
       "    <tr>\n",
       "      <th>0</th>\n",
       "      <td>Адыгея</td>\n",
       "      <td>8.70</td>\n",
       "    </tr>\n",
       "    <tr>\n",
       "      <th>1</th>\n",
       "      <td>Алтай</td>\n",
       "      <td>10.28</td>\n",
       "    </tr>\n",
       "    <tr>\n",
       "      <th>2</th>\n",
       "      <td>Алтайский край</td>\n",
       "      <td>9.93</td>\n",
       "    </tr>\n",
       "    <tr>\n",
       "      <th>3</th>\n",
       "      <td>Амурская обл.</td>\n",
       "      <td>8.60</td>\n",
       "    </tr>\n",
       "    <tr>\n",
       "      <th>4</th>\n",
       "      <td>Архангельская обл.</td>\n",
       "      <td>11.16</td>\n",
       "    </tr>\n",
       "  </tbody>\n",
       "</table>\n",
       "</div>"
      ],
      "text/plain": [
       "               Регион  Тариф на капремонт, руб.\n",
       "0              Адыгея                      8.70\n",
       "1               Алтай                     10.28\n",
       "2      Алтайский край                      9.93\n",
       "3       Амурская обл.                      8.60\n",
       "4  Архангельская обл.                     11.16"
      ]
     },
     "execution_count": 49,
     "metadata": {},
     "output_type": "execute_result"
    }
   ],
   "source": [
    "rep_df.head()"
   ]
  },
  {
   "cell_type": "markdown",
   "id": "3aa5be22",
   "metadata": {},
   "source": [
    "Умножаем каждое значение на площадь нашей квартиры и рассчитываем средние выплаты по регионам:"
   ]
  },
  {
   "cell_type": "code",
   "execution_count": 54,
   "id": "1cae9cfc",
   "metadata": {},
   "outputs": [],
   "source": [
    "rep_df['Выплаты за капитальный ремонт'] = rep_df['Тариф на капремонт, руб.'] * living_area"
   ]
  },
  {
   "cell_type": "markdown",
   "id": "0ac86c73",
   "metadata": {},
   "source": [
    "## 4. Рассчитываем средние тарифы и нормативы"
   ]
  },
  {
   "cell_type": "markdown",
   "id": "5a52f8a5",
   "metadata": {},
   "source": [
    "#### 1) Средние тарифы"
   ]
  },
  {
   "cell_type": "markdown",
   "id": "9c025560",
   "metadata": {},
   "source": [
    "Так как величина тарифов в основном распределена не совсем равномерно, то правильно будет брать не среднее, а медиану тарифов по регионам"
   ]
  },
  {
   "cell_type": "code",
   "execution_count": 232,
   "id": "7e97d840",
   "metadata": {},
   "outputs": [
    {
     "data": {
      "image/png": "[encoded data removed]",
      "text/plain": [
       "<Figure size 700x700 with 6 Axes>"
      ]
     },
     "metadata": {},
     "output_type": "display_data"
    }
   ],
   "source": [
    "# Отобразим распределение величины тарифов на примере Московской области\n",
    "region_example = 'Московская область'\n",
    "plt.figure(figsize=(7,7))\n",
    "plt.subplots_adjust(hspace=1, wspace=1)\n",
    "\n",
    "for n, i in enumerate(rates_df[rates_df['Регион'] == region_example]['Вид тарифа'].unique()):\n",
    "    df = rates_df[(rates_df['Регион'] == region_example)&(rates_df['Вид тарифа'] == i)]\n",
    "    ax = plt.subplot(3, 3, n + 1)\n",
    "    plt.hist(df['Величина тарифа (ставки тарифа)'])\n",
    "    ax.set_title(i[:20], fontsize = 8)"
   ]
  },
  {
   "cell_type": "markdown",
   "id": "56f951a5",
   "metadata": {},
   "source": [
    "Берем медиану по каждому тарифу:"
   ]
  },
  {
   "cell_type": "code",
   "execution_count": 233,
   "id": "f077be3f",
   "metadata": {
    "scrolled": true
   },
   "outputs": [
    {
     "name": "stderr",
     "output_type": "stream",
     "text": [
      "100%|███████████████████████████████████████████| 81/81 [00:09<00:00,  8.94it/s]\n"
     ]
    }
   ],
   "source": [
    "rates_df_clear = pd.DataFrame()\n",
    "for r in tqdm(rates_df['Регион'].unique()):\n",
    "    for t in rates_df[rates_df['Регион']==r]['Вид тарифа'].unique():\n",
    "        df = rates_df[(rates_df['Регион']==r) & (rates_df['Вид тарифа']==t)]\n",
    "        df = df.groupby(['Регион', 'Вид тарифа', 'Метрика'])['Величина тарифа (ставки тарифа)'].median().reset_index()\n",
    "        rates_df_clear = pd.concat([rates_df_clear, df])"
   ]
  },
  {
   "cell_type": "code",
   "execution_count": 237,
   "id": "ba8db81e",
   "metadata": {},
   "outputs": [
    {
     "data": {
      "text/html": [
       "<div>\n",
       "<style scoped>\n",
       "    .dataframe tbody tr th:only-of-type {\n",
       "        vertical-align: middle;\n",
       "    }\n",
       "\n",
       "    .dataframe tbody tr th {\n",
       "        vertical-align: top;\n",
       "    }\n",
       "\n",
       "    .dataframe thead th {\n",
       "        text-align: right;\n",
       "    }\n",
       "</style>\n",
       "<table border=\"1\" class=\"dataframe\">\n",
       "  <thead>\n",
       "    <tr style=\"text-align: right;\">\n",
       "      <th></th>\n",
       "      <th>Регион</th>\n",
       "      <th>Вид тарифа</th>\n",
       "      <th>Метрика</th>\n",
       "      <th>Величина тарифа (ставки тарифа)</th>\n",
       "    </tr>\n",
       "  </thead>\n",
       "  <tbody>\n",
       "    <tr>\n",
       "      <th>0</th>\n",
       "      <td>Астраханская область</td>\n",
       "      <td>Холодная вода</td>\n",
       "      <td>Кубический метр</td>\n",
       "      <td>34.40</td>\n",
       "    </tr>\n",
       "    <tr>\n",
       "      <th>0</th>\n",
       "      <td>Астраханская область</td>\n",
       "      <td>Водоотведение</td>\n",
       "      <td>Кубический метр</td>\n",
       "      <td>46.11</td>\n",
       "    </tr>\n",
       "    <tr>\n",
       "      <th>0</th>\n",
       "      <td>Астраханская область</td>\n",
       "      <td>Горячая вода</td>\n",
       "      <td>Кубический метр</td>\n",
       "      <td>38.79</td>\n",
       "    </tr>\n",
       "    <tr>\n",
       "      <th>0</th>\n",
       "      <td>Астраханская область</td>\n",
       "      <td>Отопление</td>\n",
       "      <td>Гигакалория</td>\n",
       "      <td>2041.67</td>\n",
       "    </tr>\n",
       "    <tr>\n",
       "      <th>0</th>\n",
       "      <td>Астраханская область</td>\n",
       "      <td>Электричество</td>\n",
       "      <td>Киловатт-час</td>\n",
       "      <td>5.94</td>\n",
       "    </tr>\n",
       "  </tbody>\n",
       "</table>\n",
       "</div>"
      ],
      "text/plain": [
       "                 Регион     Вид тарифа          Метрика  \\\n",
       "0  Астраханская область  Холодная вода  Кубический метр   \n",
       "0  Астраханская область  Водоотведение  Кубический метр   \n",
       "0  Астраханская область   Горячая вода  Кубический метр   \n",
       "0  Астраханская область      Отопление      Гигакалория   \n",
       "0  Астраханская область  Электричество     Киловатт-час   \n",
       "\n",
       "   Величина тарифа (ставки тарифа)  \n",
       "0                            34.40  \n",
       "0                            46.11  \n",
       "0                            38.79  \n",
       "0                          2041.67  \n",
       "0                             5.94  "
      ]
     },
     "execution_count": 237,
     "metadata": {},
     "output_type": "execute_result"
    }
   ],
   "source": [
    "rates_df_clear.head()"
   ]
  },
  {
   "cell_type": "markdown",
   "id": "05ec7176",
   "metadata": {},
   "source": [
    "Графически отобразим распределение величины тарифов по всем регионам:"
   ]
  },
  {
   "cell_type": "code",
   "execution_count": 304,
   "id": "37ffe55f",
   "metadata": {},
   "outputs": [
    {
     "data": {
      "image/png": "[encoded data removed]",
      "text/plain": [
       "<Figure size 700x700 with 6 Axes>"
      ]
     },
     "metadata": {},
     "output_type": "display_data"
    }
   ],
   "source": [
    "plt.figure(figsize=(7,7))\n",
    "plt.subplots_adjust(hspace=1, wspace=1)\n",
    "\n",
    "for n, i in enumerate(rates_df_clear['Вид тарифа'].unique()):\n",
    "    df = rates_df_clear[rates_df_clear['Вид тарифа'] == i]\n",
    "    ax = plt.subplot(3, 3, n + 1)\n",
    "    plt.hist(df['Величина тарифа (ставки тарифа)'])\n",
    "    ax.set_title(i[:20], fontsize = 8)"
   ]
  },
  {
   "cell_type": "markdown",
   "id": "5c5e994d",
   "metadata": {},
   "source": [
    "Видим большой разброс в данных газа и горячей воды. Видимо, это связано с тем, что были собраны в одно два тарифа, сильно отличающиеся по величине и смыслу:\n",
    "- 'Тариф на горячую воду (горячее водоснабжение) в закрытых системах теплоснабжения': 'Горячая вода',\n",
    "- 'Тариф на горячую воду в открытых системах теплоснабжения (горячего водоснабжения)': 'Горячая вода',\n",
    "- 'Розничная цена на газ, реализуемый населению': 'Газ',\n",
    "- 'Розничная цена на сжиженный газ, реализуемый населению для бытовых нужд ': 'Газ',"
   ]
  },
  {
   "cell_type": "markdown",
   "id": "fb3f82b2",
   "metadata": {},
   "source": [
    "Если в каком-то регионе отсутствуют данные по тарифу, то заполняем данные для этого тарифа медианными показателями для РФ:"
   ]
  },
  {
   "cell_type": "code",
   "execution_count": 301,
   "id": "efdf702c",
   "metadata": {},
   "outputs": [],
   "source": []
  },
  {
   "cell_type": "markdown",
   "id": "406887cd",
   "metadata": {},
   "source": [
    "#### 2) Средние нормативы потребления"
   ]
  },
  {
   "cell_type": "markdown",
   "id": "04adbd30",
   "metadata": {},
   "source": [
    "Так как величина нормативов в основном распределена не равномерно, то правильно будет брать не среднее, а медиану тарифов по регионам"
   ]
  },
  {
   "cell_type": "code",
   "execution_count": 290,
   "id": "07153a75",
   "metadata": {},
   "outputs": [
    {
     "data": {
      "image/png": "[encoded data removed]",
      "text/plain": [
       "<Figure size 700x700 with 6 Axes>"
      ]
     },
     "metadata": {},
     "output_type": "display_data"
    }
   ],
   "source": [
    "# Отобразим распределение величины тарифов на примере Московской области\n",
    "region_example = 'Московская область'\n",
    "plt.figure(figsize=(7,7))\n",
    "plt.subplots_adjust(hspace=1, wspace=1)\n",
    "\n",
    "for n, i in enumerate(cons_df[cons_df['Регион'] == region_example]['Коммунальная услуга'].unique()):\n",
    "    df = cons_df[(cons_df['Регион'] == region_example)&(cons_df['Коммунальная услуга'] == i)]\n",
    "    ax = plt.subplot(3, 3, n + 1)\n",
    "    plt.hist(df['Величина норматива'])\n",
    "    ax.set_title(i[:20], fontsize = 8)"
   ]
  },
  {
   "cell_type": "markdown",
   "id": "eddc5c65",
   "metadata": {},
   "source": [
    "Берем медиану по каждому нормативу:"
   ]
  },
  {
   "cell_type": "code",
   "execution_count": 295,
   "id": "5c3e31b6",
   "metadata": {},
   "outputs": [
    {
     "name": "stderr",
     "output_type": "stream",
     "text": [
      "100%|███████████████████████████████████████████| 85/85 [00:06<00:00, 14.16it/s]\n"
     ]
    }
   ],
   "source": [
    "cons_df_clear = pd.DataFrame()\n",
    "for r in tqdm(cons_df['Регион'].unique()):\n",
    "    for t in cons_df[cons_df['Регион']==r]['Коммунальная услуга'].unique():\n",
    "        df = cons_df[(cons_df['Регион']==r) & (cons_df['Коммунальная услуга']==t)]\n",
    "        df = df.groupby(['Регион', 'Коммунальная услуга', 'Метрика'])['Величина норматива'].median().reset_index()\n",
    "        cons_df_clear = pd.concat([cons_df_clear, df])"
   ]
  },
  {
   "cell_type": "markdown",
   "id": "c6b48aa4",
   "metadata": {},
   "source": [
    "#### 3) Объединяем данные тарифов и нормативов"
   ]
  },
  {
   "cell_type": "markdown",
   "id": "d0a60ae1",
   "metadata": {},
   "source": [
    "Дедлайн 👀"
   ]
  },
  {
   "cell_type": "code",
   "execution_count": null,
   "id": "dd93270b",
   "metadata": {},
   "outputs": [],
   "source": []
  }
 ],
 "metadata": {
  "kernelspec": {
   "display_name": "Python 3 (ipykernel)",
   "language": "python",
   "name": "python3"
  },
  "language_info": {
   "codemirror_mode": {
    "name": "ipython",
    "version": 3
   },
   "file_extension": ".py",
   "mimetype": "text/x-python",
   "name": "python",
   "nbconvert_exporter": "python",
   "pygments_lexer": "ipython3",
   "version": "3.10.9"
  }
 },
 "nbformat": 4,
 "nbformat_minor": 5
}
